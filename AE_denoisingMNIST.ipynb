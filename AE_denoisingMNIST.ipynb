{
  "cells": [
    {
      "cell_type": "markdown",
      "metadata": {
        "id": "view-in-github",
        "colab_type": "text"
      },
      "source": [
        "<a href=\"https://colab.research.google.com/github/ProvenDruid/autoencoders/blob/main/AE_denoisingMNIST.ipynb\" target=\"_parent\"><img src=\"https://colab.research.google.com/assets/colab-badge.svg\" alt=\"Open In Colab\"/></a>"
      ]
    },
    {
      "cell_type": "code",
      "execution_count": null,
      "metadata": {
        "id": "_8BCyD0PdXsv"
      },
      "outputs": [],
      "source": [
        "# import libraries\n",
        "import numpy as np\n",
        "\n",
        "import torch\n",
        "import torch.nn as nn\n",
        "import torch.nn.functional as F\n",
        "\n",
        "import matplotlib.pyplot as plt\n",
        "from IPython import display\n",
        "from matplotlib_inline.backend_inline import set_matplotlib_formats"
      ]
    },
    {
      "cell_type": "code",
      "execution_count": null,
      "metadata": {
        "id": "xNBDC7i6dmwV"
      },
      "outputs": [],
      "source": [
        "# import dataset (comes with colab!)\n",
        "data = np.loadtxt(open('sample_data/mnist_train_small.csv','rb'),delimiter=',')\n",
        "\n",
        "# don't need labels!\n",
        "data = data[:,1:]\n",
        "\n",
        "# normalize the data to a range of [0 1]\n",
        "dataNorm = data / np.max(data)\n",
        "\n",
        "# convert to tensor\n",
        "dataT = torch.tensor( dataNorm ).float()"
      ]
    },
    {
      "cell_type": "code",
      "execution_count": null,
      "metadata": {
        "id": "JK3OO3tAtZkA"
      },
      "outputs": [],
      "source": [
        "# create a class for the model\n",
        "def createTheMNISTAE():\n",
        "\n",
        "  class aenet(nn.Module):\n",
        "    def __init__(self):\n",
        "      super().__init__()\n",
        "\n",
        "      ### input layer\n",
        "      self.input = nn.Linear(784,250)\n",
        "\n",
        "      ### encoder layer\n",
        "      self.enc = nn.Linear(250,50)\n",
        "\n",
        "      ### latent layer\n",
        "      self.lat = nn.Linear(50,250)\n",
        "\n",
        "      ### decoder layer\n",
        "      self.dec = nn.Linear(250,784)\n",
        "\n",
        "    # forward pass\n",
        "    def forward(self,x):\n",
        "      x = F.relu( self.input(x) )\n",
        "      x = F.relu( self.enc(x) )\n",
        "      x = F.relu( self.lat(x) )\n",
        "      y = torch.sigmoid( self.dec(x) )\n",
        "      return y\n",
        "\n",
        "  # create the model instance\n",
        "  net = aenet()\n",
        "\n",
        "  # loss function\n",
        "  lossfun = nn.MSELoss()\n",
        "\n",
        "  # optimizer\n",
        "  optimizer = torch.optim.Adam(net.parameters(),lr=.001)\n",
        "\n",
        "  return net,lossfun,optimizer"
      ]
    },
    {
      "cell_type": "code",
      "execution_count": null,
      "metadata": {
        "colab": {
          "background_save": true,
          "base_uri": "https://localhost:8080/"
        },
        "id": "SXNK1eaQlZ8Q",
        "outputId": "762152d6-0259-464f-e5dd-fa0c1f6cf41e"
      },
      "outputs": [
        {
          "name": "stdout",
          "output_type": "stream",
          "text": [
            "tensor([0.0000, 0.0039, 0.0078, 0.0118, 0.0157, 0.0196, 0.0235, 0.0314, 0.0353,\n",
            "        0.0392, 0.0431, 0.0471, 0.0510, 0.0549, 0.0588, 0.0627, 0.0667, 0.0706,\n",
            "        0.0745, 0.0784, 0.0824, 0.0863, 0.0902, 0.0941, 0.0980, 0.1020, 0.1059,\n",
            "        0.1098, 0.1137, 0.1176, 0.1216, 0.1255, 0.1294, 0.1333, 0.1373, 0.1412,\n",
            "        0.1451, 0.1490, 0.1529, 0.1569, 0.1608, 0.1647, 0.1686, 0.1725, 0.1765,\n",
            "        0.1804, 0.1843, 0.1882, 0.1922, 0.1961, 0.2000, 0.2039, 0.2157, 0.2196,\n",
            "        0.2235, 0.2275, 0.2314, 0.2353, 0.2392, 0.2471, 0.2510, 0.2549, 0.2588,\n",
            "        0.2627, 0.2745, 0.2784, 0.2824, 0.2863, 0.2902, 0.2980, 0.3059, 0.3098,\n",
            "        0.3137, 0.3216, 0.3255, 0.3333, 0.3373, 0.3412, 0.3451, 0.3490, 0.3529,\n",
            "        0.3569, 0.3608, 0.3647, 0.3725, 0.3765, 0.3804, 0.3843, 0.3882, 0.3922,\n",
            "        0.3961, 0.4078, 0.4118, 0.4157, 0.4196, 0.4235, 0.4314, 0.4353, 0.4431,\n",
            "        0.4471, 0.4588, 0.4667, 0.4745, 0.4784, 0.4824, 0.4863, 0.4902, 0.4941,\n",
            "        0.4980, 0.5020, 0.5059, 0.5137, 0.5176, 0.5216, 0.5255, 0.5294, 0.5373,\n",
            "        0.5412, 0.5451, 0.5490, 0.5608, 0.5686, 0.5725, 0.5765, 0.5843, 0.5961,\n",
            "        0.6000, 0.6039, 0.6078, 0.6118, 0.6157, 0.6196, 0.6235, 0.6275, 0.6314,\n",
            "        0.6353, 0.6471, 0.6510, 0.6549, 0.6627, 0.6667, 0.6706, 0.6745, 0.6784,\n",
            "        0.6824, 0.6863, 0.6902, 0.6941, 0.6980, 0.7020, 0.7059, 0.7098, 0.7176,\n",
            "        0.7216, 0.7255, 0.7294, 0.7333, 0.7373, 0.7490, 0.7529, 0.7569, 0.7647,\n",
            "        0.7686, 0.7765, 0.7804, 0.7843, 0.7882, 0.7922, 0.8039, 0.8078, 0.8118,\n",
            "        0.8157, 0.8196, 0.8235, 0.8275, 0.8314, 0.8353, 0.8392, 0.8431, 0.8471,\n",
            "        0.8510, 0.8549, 0.8588, 0.8627, 0.8706, 0.8745, 0.8784, 0.8824, 0.8863,\n",
            "        0.8902, 0.8941, 0.8980, 0.9020, 0.9059, 0.9098, 0.9137, 0.9176, 0.9216,\n",
            "        0.9255, 0.9294, 0.9373, 0.9412, 0.9451, 0.9490, 0.9529, 0.9569, 0.9608,\n",
            "        0.9647, 0.9686, 0.9725, 0.9765, 0.9804, 0.9843, 0.9882, 0.9922, 0.9961,\n",
            "        1.0000])\n",
            "tensor([0.4606, 0.4608, 0.4613,  ..., 0.5358, 0.5374, 0.5391],\n",
            "       grad_fn=<Unique2Backward0>)\n"
          ]
        }
      ],
      "source": [
        "# test the model with a bit of data\n",
        "net,lossfun,optimizer = createTheMNISTAE()\n",
        "\n",
        "X = dataT[:5,:]\n",
        "yHat = net(X)\n",
        "\n",
        "print(X.unique())\n",
        "print(yHat[0].unique())"
      ]
    },
    {
      "cell_type": "code",
      "execution_count": null,
      "metadata": {
        "colab": {
          "base_uri": "https://localhost:8080/",
          "height": 253
        },
        "id": "w9_XFXlBsJ33",
        "outputId": "36691ea2-901b-482c-b88a-2e64597b73bc"
      },
      "outputs": [
        {
          "data": {
            "image/png": "[encoded data removed]",
            "text/plain": [
              "<Figure size 1000x300 with 10 Axes>"
            ]
          },
          "metadata": {},
          "output_type": "display_data"
        }
      ],
      "source": [
        "# let's see what the model did!\n",
        "fig,axs = plt.subplots(2,5,figsize=(10,3))\n",
        "\n",
        "for i in range(5):\n",
        "  axs[0,i].imshow(X[i,:].view(28,28).detach() ,cmap='gray')\n",
        "  axs[1,i].imshow(yHat[i,:].view(28,28).detach() ,cmap='gray')\n",
        "  axs[0,i].set_xticks([]), axs[0,i].set_yticks([])\n",
        "  axs[1,i].set_xticks([]), axs[1,i].set_yticks([])\n",
        "\n",
        "plt.suptitle('Yikes!!!')\n",
        "plt.show()"
      ]
    }
  ],
  "metadata": {
    "colab": {
      "provenance": [],
      "authorship_tag": "ABX9TyPmZBXo6Q3SH7QLE8UJK7z7",
      "include_colab_link": true
    },
    "kernelspec": {
      "display_name": "Python 3",
      "name": "python3"
    },
    "language_info": {
      "name": "python"
    }
  },
  "nbformat": 4,
  "nbformat_minor": 0
}